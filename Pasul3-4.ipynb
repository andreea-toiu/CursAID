{
 "cells": [
  {
   "cell_type": "markdown",
   "id": "74eea17d-6009-4446-8623-5219eb395820",
   "metadata": {
    "tags": []
   },
   "source": [
    "## PASUL 3-4"
   ]
  },
  {
   "cell_type": "code",
   "execution_count": 3,
   "id": "516645c3-a8ef-452c-ba0e-44aba9d0d4b0",
   "metadata": {
    "tags": []
   },
   "outputs": [],
   "source": [
    "import pandas as pd\n",
    "import "
   ]
  },
  {
   "cell_type": "code",
   "execution_count": 5,
   "id": "9e199158-1ced-4fbd-9a89-379ec4584bf9",
   "metadata": {
    "tags": []
   },
   "outputs": [],
   "source": [
    "cj_schools_grades = pd.read_csv('cj_schools_grades.csv')"
   ]
  },
  {
   "cell_type": "code",
   "execution_count": null,
   "id": "9cd62dd1-573d-4325-a051-90cc7879e822",
   "metadata": {},
   "outputs": [],
   "source": [
    "# eliminam coloanele pe care nu le vom utiliza in analiza\n",
    "cj_schools_grades = cj_schools_grades.drop(columns = ['STATUS ROMANA', ' STATUS LIMBA MATERNA',\n",
    "       'STATUS MATEMATICA', 'NOTA ROMANA', 'NOTA LIMBA MATERNA',\n",
    "       'NOTA MATEMATICA', 'CONTESTATIE ROMANA', 'NOTA CONTESTATIE ROMANA',\n",
    "       'CONTESTATIE LIMBA MATERNA', 'NOTA CONTESTATIE LB MATERNA',\n",
    "       'CONTESTATIE MATEMATICA', 'NOTA CONTESTATIE MATEMATICA',\n",
    "       'NOTA FINALA ROMANA', 'NOTA FINALA LB MATERNA',\n",
    "       'NOTA FINALA MATEMATICA'], axis = 1)"
   ]
  },
  {
   "cell_type": "code",
   "execution_count": 6,
   "id": "0bda8607-2d7e-421a-9581-6786f58040d6",
   "metadata": {
    "tags": []
   },
   "outputs": [
    {
     "data": {
      "text/html": [
       "<div>\n",
       "<style scoped>\n",
       "    .dataframe tbody tr th:only-of-type {\n",
       "        vertical-align: middle;\n",
       "    }\n",
       "\n",
       "    .dataframe tbody tr th {\n",
       "        vertical-align: top;\n",
       "    }\n",
       "\n",
       "    .dataframe thead th {\n",
       "        text-align: right;\n",
       "    }\n",
       "</style>\n",
       "<table border=\"1\" class=\"dataframe\">\n",
       "  <thead>\n",
       "    <tr style=\"text-align: right;\">\n",
       "      <th></th>\n",
       "      <th>idSchool</th>\n",
       "      <th>siruesCode</th>\n",
       "      <th>shortName</th>\n",
       "      <th>county</th>\n",
       "      <th>locality</th>\n",
       "      <th>propertyForm</th>\n",
       "      <th>fundingForm</th>\n",
       "      <th>schoolNumbers.studyFormationsCount</th>\n",
       "      <th>schoolNumbers.studentsCount</th>\n",
       "      <th>schoolNumbers.personnelCount</th>\n",
       "      <th>...</th>\n",
       "      <th>windowJoinery</th>\n",
       "      <th>doorJoinery</th>\n",
       "      <th>dateFrom</th>\n",
       "      <th>Denumire</th>\n",
       "      <th>cod_SIIIR</th>\n",
       "      <th>COD UNIC CANDIDAT</th>\n",
       "      <th>SEX</th>\n",
       "      <th>MEDIU</th>\n",
       "      <th>MEDIA</th>\n",
       "      <th>MEDIA V-VIII</th>\n",
       "    </tr>\n",
       "  </thead>\n",
       "  <tbody>\n",
       "    <tr>\n",
       "      <th>0</th>\n",
       "      <td>11266917</td>\n",
       "      <td>120437849</td>\n",
       "      <td>COLEGIUL NAȚIONAL \"EMIL RACOVIȚĂ\" CLUJ-NAPOCA</td>\n",
       "      <td>CLUJ</td>\n",
       "      <td>CLUJ-NAPOCA</td>\n",
       "      <td>Publică de interes naţional şi local</td>\n",
       "      <td>Buget</td>\n",
       "      <td>36</td>\n",
       "      <td>1071</td>\n",
       "      <td>88</td>\n",
       "      <td>...</td>\n",
       "      <td>Mixtă</td>\n",
       "      <td>Mixtă</td>\n",
       "      <td>-2208996000000</td>\n",
       "      <td>COLEGIUL NAČšIONAL \"EMIL RACOVIČšÄ‚\" CLUJ-NAPOCA</td>\n",
       "      <td>1261105023</td>\n",
       "      <td>10107762</td>\n",
       "      <td>M</td>\n",
       "      <td>URBAN</td>\n",
       "      <td>9.85</td>\n",
       "      <td>9.89</td>\n",
       "    </tr>\n",
       "    <tr>\n",
       "      <th>1</th>\n",
       "      <td>11266917</td>\n",
       "      <td>120437849</td>\n",
       "      <td>COLEGIUL NAȚIONAL \"EMIL RACOVIȚĂ\" CLUJ-NAPOCA</td>\n",
       "      <td>CLUJ</td>\n",
       "      <td>CLUJ-NAPOCA</td>\n",
       "      <td>Publică de interes naţional şi local</td>\n",
       "      <td>Buget</td>\n",
       "      <td>36</td>\n",
       "      <td>1071</td>\n",
       "      <td>88</td>\n",
       "      <td>...</td>\n",
       "      <td>Mixtă</td>\n",
       "      <td>Mixtă</td>\n",
       "      <td>-2208996000000</td>\n",
       "      <td>COLEGIUL NAČšIONAL \"EMIL RACOVIČšÄ‚\" CLUJ-NAPOCA</td>\n",
       "      <td>1261105023</td>\n",
       "      <td>10302839</td>\n",
       "      <td>F</td>\n",
       "      <td>URBAN</td>\n",
       "      <td>9.67</td>\n",
       "      <td>9.67</td>\n",
       "    </tr>\n",
       "    <tr>\n",
       "      <th>2</th>\n",
       "      <td>11266917</td>\n",
       "      <td>120437849</td>\n",
       "      <td>COLEGIUL NAȚIONAL \"EMIL RACOVIȚĂ\" CLUJ-NAPOCA</td>\n",
       "      <td>CLUJ</td>\n",
       "      <td>CLUJ-NAPOCA</td>\n",
       "      <td>Publică de interes naţional şi local</td>\n",
       "      <td>Buget</td>\n",
       "      <td>36</td>\n",
       "      <td>1071</td>\n",
       "      <td>88</td>\n",
       "      <td>...</td>\n",
       "      <td>Mixtă</td>\n",
       "      <td>Mixtă</td>\n",
       "      <td>-2208996000000</td>\n",
       "      <td>COLEGIUL NAČšIONAL \"EMIL RACOVIČšÄ‚\" CLUJ-NAPOCA</td>\n",
       "      <td>1261105023</td>\n",
       "      <td>10107674</td>\n",
       "      <td>F</td>\n",
       "      <td>URBAN</td>\n",
       "      <td>9.40</td>\n",
       "      <td>9.86</td>\n",
       "    </tr>\n",
       "  </tbody>\n",
       "</table>\n",
       "<p>3 rows × 27 columns</p>\n",
       "</div>"
      ],
      "text/plain": [
       "   idSchool  siruesCode                                      shortName county  \\\n",
       "0  11266917   120437849  COLEGIUL NAȚIONAL \"EMIL RACOVIȚĂ\" CLUJ-NAPOCA   CLUJ   \n",
       "1  11266917   120437849  COLEGIUL NAȚIONAL \"EMIL RACOVIȚĂ\" CLUJ-NAPOCA   CLUJ   \n",
       "2  11266917   120437849  COLEGIUL NAȚIONAL \"EMIL RACOVIȚĂ\" CLUJ-NAPOCA   CLUJ   \n",
       "\n",
       "      locality                          propertyForm fundingForm  \\\n",
       "0  CLUJ-NAPOCA  Publică de interes naţional şi local       Buget   \n",
       "1  CLUJ-NAPOCA  Publică de interes naţional şi local       Buget   \n",
       "2  CLUJ-NAPOCA  Publică de interes naţional şi local       Buget   \n",
       "\n",
       "   schoolNumbers.studyFormationsCount  schoolNumbers.studentsCount  \\\n",
       "0                                  36                         1071   \n",
       "1                                  36                         1071   \n",
       "2                                  36                         1071   \n",
       "\n",
       "   schoolNumbers.personnelCount  ...  windowJoinery doorJoinery  \\\n",
       "0                            88  ...          Mixtă       Mixtă   \n",
       "1                            88  ...          Mixtă       Mixtă   \n",
       "2                            88  ...          Mixtă       Mixtă   \n",
       "\n",
       "        dateFrom                                          Denumire  \\\n",
       "0 -2208996000000  COLEGIUL NAČšIONAL \"EMIL RACOVIČšÄ‚\" CLUJ-NAPOCA   \n",
       "1 -2208996000000  COLEGIUL NAČšIONAL \"EMIL RACOVIČšÄ‚\" CLUJ-NAPOCA   \n",
       "2 -2208996000000  COLEGIUL NAČšIONAL \"EMIL RACOVIČšÄ‚\" CLUJ-NAPOCA   \n",
       "\n",
       "    cod_SIIIR COD UNIC CANDIDAT SEX  MEDIU MEDIA  MEDIA V-VIII  \n",
       "0  1261105023          10107762   M  URBAN  9.85          9.89  \n",
       "1  1261105023          10302839   F  URBAN  9.67          9.67  \n",
       "2  1261105023          10107674   F  URBAN  9.40          9.86  \n",
       "\n",
       "[3 rows x 27 columns]"
      ]
     },
     "execution_count": 6,
     "metadata": {},
     "output_type": "execute_result"
    }
   ],
   "source": [
    "cj_schools_grades.head(3)"
   ]
  },
  {
   "cell_type": "code",
   "execution_count": null,
   "id": "f947861e-71ec-4201-9c6b-311776cd860d",
   "metadata": {},
   "outputs": [],
   "source": [
    "# Metodologie calcul per unitate de invatamant: Media notelor obtinute la Evaluare Nationala (MATEMATICA + ROMANA)\n",
    "# https://www.edupedu.ro/oficial-media-claselor-v-viii-nu-mai-este-luata-in-calcul-pentru-admiterea-la-liceu-2023-cum-se-calculeaza-media-de-admitere-calendarul-admiterii/\n",
    "# Incepand cu anul 2023, media claselor V-VIII nu mai este luata in calcul pentru admiterea la liceu"
   ]
  },
  {
   "cell_type": "markdown",
   "id": "b50492df-ccb6-4c6c-8a47-d1fe7ff159f3",
   "metadata": {},
   "source": [
    "## CALCULARE MEDIA EVALUAE NATIONALA PENTRU FIECARE UNITATE DE INVATAMANT"
   ]
  },
  {
   "cell_type": "code",
   "execution_count": null,
   "id": "1f938411-4735-473e-929e-d991ccd876ca",
   "metadata": {},
   "outputs": [],
   "source": [
    "cj_schools_grades['MEDIA'] = cj_schools_grades['MEDIA'].str.replace(',',\".\").astype(float)"
   ]
  },
  {
   "cell_type": "code",
   "execution_count": null,
   "id": "d7b27d87-c026-4d5a-affc-949dac41451d",
   "metadata": {},
   "outputs": [],
   "source": [
    "cj_schools_grades['MEDIA V-VIII'] = cj_schools_grades['MEDIA V-VIII'].str.replace(',',\".\").astype(float)"
   ]
  },
  {
   "cell_type": "code",
   "execution_count": null,
   "id": "e45450e5-37c5-4705-a5f8-1803446dc928",
   "metadata": {},
   "outputs": [],
   "source": [
    "cj_schools_grades.head(2)"
   ]
  },
  {
   "cell_type": "code",
   "execution_count": null,
   "id": "420efb38-5285-46b5-a989-3f4be076656a",
   "metadata": {},
   "outputs": [],
   "source": [
    "average_grades_cjschools = cj_schools_grades.groupby('shortName')['MEDIA'].mean().reset_index()"
   ]
  },
  {
   "cell_type": "code",
   "execution_count": null,
   "id": "e9297fa9-875e-4339-9166-d0768f35c92e",
   "metadata": {},
   "outputs": [],
   "source": [
    "average_grades_cjschools.head(3)"
   ]
  },
  {
   "cell_type": "code",
   "execution_count": null,
   "id": "16414b68-eaaf-4c21-825b-ccc6a3d2dec4",
   "metadata": {},
   "outputs": [],
   "source": [
    "cjschools_grades = cj_schools_grades.groupby('shortName').agg({\n",
    "    'idSchool': 'first', \n",
    "    'siruesCode': 'first', \n",
    "    'county': 'first', \n",
    "    'locality': 'first', \n",
    "    'propertyForm': 'first', \n",
    "    'fundingForm': 'first', \n",
    "    'MEDIA': 'mean' \n",
    "}).reset_index()"
   ]
  },
  {
   "cell_type": "code",
   "execution_count": null,
   "id": "7490430e-8637-4b89-94dd-d838e47a54a6",
   "metadata": {},
   "outputs": [],
   "source": [
    "cjschools_grades"
   ]
  },
  {
   "cell_type": "code",
   "execution_count": null,
   "id": "d2036cb4-acf4-41df-8aa6-0c359d9239cd",
   "metadata": {},
   "outputs": [],
   "source": [
    "cjschools_grades['locality'].value_counts()"
   ]
  }
 ],
 "metadata": {
  "kernelspec": {
   "display_name": "Python 3 (ipykernel)",
   "language": "python",
   "name": "python3"
  },
  "language_info": {
   "codemirror_mode": {
    "name": "ipython",
    "version": 3
   },
   "file_extension": ".py",
   "mimetype": "text/x-python",
   "name": "python",
   "nbconvert_exporter": "python",
   "pygments_lexer": "ipython3",
   "version": "3.10.13"
  }
 },
 "nbformat": 4,
 "nbformat_minor": 5
}
