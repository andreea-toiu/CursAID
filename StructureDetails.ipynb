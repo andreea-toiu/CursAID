{
 "cells": [
  {
   "cell_type": "markdown",
   "id": "a9fdf223-e527-4fc8-abe4-b136b5d8163e",
   "metadata": {},
   "source": [
    "### Open, read and normalize json "
   ]
  },
  {
   "cell_type": "code",
   "execution_count": 41,
   "id": "4d97fc15-bd92-4da5-9b87-eadb7515f08a",
   "metadata": {
    "tags": []
   },
   "outputs": [],
   "source": [
    "import pandas as pd \n",
    "import numpy as np \n",
    "import json"
   ]
  },
  {
   "cell_type": "code",
   "execution_count": 42,
   "id": "602ab9a0-a87d-4820-83fc-20b599b3483f",
   "metadata": {
    "tags": []
   },
   "outputs": [],
   "source": [
    "file_path = 'school_details.json'\n",
    "\n",
    "with open(file_path) as json_file:\n",
    "    school_details = json.load(json_file)"
   ]
  },
  {
   "cell_type": "code",
   "execution_count": 43,
   "id": "b5ddddd6-2a3d-4575-9e3c-ada8a48353ae",
   "metadata": {
    "tags": []
   },
   "outputs": [
    {
     "data": {
      "text/html": [
       "<div>\n",
       "<style scoped>\n",
       "    .dataframe tbody tr th:only-of-type {\n",
       "        vertical-align: middle;\n",
       "    }\n",
       "\n",
       "    .dataframe tbody tr th {\n",
       "        vertical-align: top;\n",
       "    }\n",
       "\n",
       "    .dataframe thead th {\n",
       "        text-align: right;\n",
       "    }\n",
       "</style>\n",
       "<table border=\"1\" class=\"dataframe\">\n",
       "  <thead>\n",
       "    <tr style=\"text-align: right;\">\n",
       "      <th></th>\n",
       "      <th>details</th>\n",
       "    </tr>\n",
       "  </thead>\n",
       "  <tbody>\n",
       "    <tr>\n",
       "      <th>0</th>\n",
       "      <td>{'idSchool': 11269910, 'internalIdSchool': 101...</td>\n",
       "    </tr>\n",
       "    <tr>\n",
       "      <th>1</th>\n",
       "      <td>{'idSchool': 11256876, 'internalIdSchool': 111...</td>\n",
       "    </tr>\n",
       "    <tr>\n",
       "      <th>2</th>\n",
       "      <td>{'idSchool': 11256865, 'internalIdSchool': 111...</td>\n",
       "    </tr>\n",
       "  </tbody>\n",
       "</table>\n",
       "</div>"
      ],
      "text/plain": [
       "                                             details\n",
       "0  {'idSchool': 11269910, 'internalIdSchool': 101...\n",
       "1  {'idSchool': 11256876, 'internalIdSchool': 111...\n",
       "2  {'idSchool': 11256865, 'internalIdSchool': 111..."
      ]
     },
     "execution_count": 43,
     "metadata": {},
     "output_type": "execute_result"
    }
   ],
   "source": [
    "data = pd.DataFrame(school_details)\n",
    "data.head(3)"
   ]
  },
  {
   "cell_type": "code",
   "execution_count": 44,
   "id": "7d654d71-365d-4f4f-bd1e-fa686d6ba975",
   "metadata": {
    "tags": []
   },
   "outputs": [
    {
     "data": {
      "text/html": [
       "<div>\n",
       "<style scoped>\n",
       "    .dataframe tbody tr th:only-of-type {\n",
       "        vertical-align: middle;\n",
       "    }\n",
       "\n",
       "    .dataframe tbody tr th {\n",
       "        vertical-align: top;\n",
       "    }\n",
       "\n",
       "    .dataframe thead th {\n",
       "        text-align: right;\n",
       "    }\n",
       "</style>\n",
       "<table border=\"1\" class=\"dataframe\">\n",
       "  <thead>\n",
       "    <tr style=\"text-align: right;\">\n",
       "      <th></th>\n",
       "      <th>idSchool</th>\n",
       "      <th>internalIdSchool</th>\n",
       "      <th>idParentSchool</th>\n",
       "      <th>schoolSocialLinks</th>\n",
       "      <th>schoolYearDescription</th>\n",
       "      <th>code</th>\n",
       "      <th>siruesCode</th>\n",
       "      <th>longName</th>\n",
       "      <th>shortName</th>\n",
       "      <th>schoolType</th>\n",
       "      <th>...</th>\n",
       "      <th>idSchoolYear.isCurrentYear</th>\n",
       "      <th>idSchoolYear.dateTo</th>\n",
       "      <th>idSchoolYear.dateFrom</th>\n",
       "      <th>idSchoolYear.description</th>\n",
       "      <th>idSchoolYear.code</th>\n",
       "      <th>idSchoolYear.idSchoolYear</th>\n",
       "      <th>schoolNumbers.idSchool</th>\n",
       "      <th>schoolNumbers.studyFormationsCount</th>\n",
       "      <th>schoolNumbers.studentsCount</th>\n",
       "      <th>schoolNumbers.personnelCount</th>\n",
       "    </tr>\n",
       "  </thead>\n",
       "  <tbody>\n",
       "    <tr>\n",
       "      <th>0</th>\n",
       "      <td>11269910</td>\n",
       "      <td>10131270</td>\n",
       "      <td>NaN</td>\n",
       "      <td>[]</td>\n",
       "      <td>Anul şcolar 2018-2019</td>\n",
       "      <td>0261200154</td>\n",
       "      <td>23054595</td>\n",
       "      <td>ASOCIAŢIA CREŞTINĂ DE CARITATE \"GOSEN\" ARAD/ G...</td>\n",
       "      <td>GRĂDINIŢA \"GOSEN\" ARAD</td>\n",
       "      <td>Unitate de învățământ</td>\n",
       "      <td>...</td>\n",
       "      <td>0</td>\n",
       "      <td>1567285199000</td>\n",
       "      <td>1535749200000</td>\n",
       "      <td>Anul şcolar 2018-2019</td>\n",
       "      <td>2018-2019</td>\n",
       "      <td>21</td>\n",
       "      <td>11269910</td>\n",
       "      <td>4</td>\n",
       "      <td>131</td>\n",
       "      <td>7</td>\n",
       "    </tr>\n",
       "    <tr>\n",
       "      <th>1</th>\n",
       "      <td>11256876</td>\n",
       "      <td>11192270</td>\n",
       "      <td>NaN</td>\n",
       "      <td>[]</td>\n",
       "      <td>Anul şcolar 2018-2019</td>\n",
       "      <td>1061206943</td>\n",
       "      <td>None</td>\n",
       "      <td>ASOCIAȚIA PENTRU PROMOVAREA VALORILOR AUTENTIC...</td>\n",
       "      <td>ASOCIAȚIA VALORILOR BZ</td>\n",
       "      <td>Unitate de învățământ</td>\n",
       "      <td>...</td>\n",
       "      <td>0</td>\n",
       "      <td>1567285199000</td>\n",
       "      <td>1535749200000</td>\n",
       "      <td>Anul şcolar 2018-2019</td>\n",
       "      <td>2018-2019</td>\n",
       "      <td>21</td>\n",
       "      <td>11256876</td>\n",
       "      <td>0</td>\n",
       "      <td>0</td>\n",
       "      <td>0</td>\n",
       "    </tr>\n",
       "    <tr>\n",
       "      <th>2</th>\n",
       "      <td>11256865</td>\n",
       "      <td>11192168</td>\n",
       "      <td>NaN</td>\n",
       "      <td>[]</td>\n",
       "      <td>Anul şcolar 2018-2019</td>\n",
       "      <td>1061206875</td>\n",
       "      <td>None</td>\n",
       "      <td>ASOCIAȚIA UMANITARĂ EDUSTAR BUZĂU</td>\n",
       "      <td>ASOCIATIA EDUSTAR</td>\n",
       "      <td>Unitate de învățământ</td>\n",
       "      <td>...</td>\n",
       "      <td>0</td>\n",
       "      <td>1567285199000</td>\n",
       "      <td>1535749200000</td>\n",
       "      <td>Anul şcolar 2018-2019</td>\n",
       "      <td>2018-2019</td>\n",
       "      <td>21</td>\n",
       "      <td>11256865</td>\n",
       "      <td>0</td>\n",
       "      <td>0</td>\n",
       "      <td>0</td>\n",
       "    </tr>\n",
       "    <tr>\n",
       "      <th>3</th>\n",
       "      <td>11284187</td>\n",
       "      <td>11284187</td>\n",
       "      <td>11270069.0</td>\n",
       "      <td>[]</td>\n",
       "      <td>Anul şcolar 2018-2019</td>\n",
       "      <td>5162103686</td>\n",
       "      <td>None</td>\n",
       "      <td>CABINET INTERSCOLAR DE ASISTENTA PSIHOPEDAGOGI...</td>\n",
       "      <td>CIAP LICEUL PEDADOGIC STEFAN BANULESCU</td>\n",
       "      <td>Unitate de învățământ</td>\n",
       "      <td>...</td>\n",
       "      <td>0</td>\n",
       "      <td>1567285199000</td>\n",
       "      <td>1535749200000</td>\n",
       "      <td>Anul şcolar 2018-2019</td>\n",
       "      <td>2018-2019</td>\n",
       "      <td>21</td>\n",
       "      <td>11284187</td>\n",
       "      <td>0</td>\n",
       "      <td>0</td>\n",
       "      <td>0</td>\n",
       "    </tr>\n",
       "    <tr>\n",
       "      <th>4</th>\n",
       "      <td>11270113</td>\n",
       "      <td>10049611</td>\n",
       "      <td>11270069.0</td>\n",
       "      <td>[]</td>\n",
       "      <td>Anul şcolar 2018-2019</td>\n",
       "      <td>5142100248</td>\n",
       "      <td>None</td>\n",
       "      <td>CABINET INTERSCOLAR DE ASISTENTA PSIHOPEDAGOGI...</td>\n",
       "      <td>CIAP LICEUL NR1 BORCEA_SCOALA PERISORU</td>\n",
       "      <td>Centru județean de resurse și asistență educaț...</td>\n",
       "      <td>...</td>\n",
       "      <td>0</td>\n",
       "      <td>1567285199000</td>\n",
       "      <td>1535749200000</td>\n",
       "      <td>Anul şcolar 2018-2019</td>\n",
       "      <td>2018-2019</td>\n",
       "      <td>21</td>\n",
       "      <td>11270113</td>\n",
       "      <td>0</td>\n",
       "      <td>0</td>\n",
       "      <td>0</td>\n",
       "    </tr>\n",
       "  </tbody>\n",
       "</table>\n",
       "<p>5 rows × 36 columns</p>\n",
       "</div>"
      ],
      "text/plain": [
       "   idSchool  internalIdSchool  idParentSchool schoolSocialLinks  \\\n",
       "0  11269910          10131270             NaN                []   \n",
       "1  11256876          11192270             NaN                []   \n",
       "2  11256865          11192168             NaN                []   \n",
       "3  11284187          11284187      11270069.0                []   \n",
       "4  11270113          10049611      11270069.0                []   \n",
       "\n",
       "   schoolYearDescription        code siruesCode  \\\n",
       "0  Anul şcolar 2018-2019  0261200154   23054595   \n",
       "1  Anul şcolar 2018-2019  1061206943       None   \n",
       "2  Anul şcolar 2018-2019  1061206875       None   \n",
       "3  Anul şcolar 2018-2019  5162103686       None   \n",
       "4  Anul şcolar 2018-2019  5142100248       None   \n",
       "\n",
       "                                            longName  \\\n",
       "0  ASOCIAŢIA CREŞTINĂ DE CARITATE \"GOSEN\" ARAD/ G...   \n",
       "1  ASOCIAȚIA PENTRU PROMOVAREA VALORILOR AUTENTIC...   \n",
       "2                  ASOCIAȚIA UMANITARĂ EDUSTAR BUZĂU   \n",
       "3  CABINET INTERSCOLAR DE ASISTENTA PSIHOPEDAGOGI...   \n",
       "4  CABINET INTERSCOLAR DE ASISTENTA PSIHOPEDAGOGI...   \n",
       "\n",
       "                                shortName  \\\n",
       "0                  GRĂDINIŢA \"GOSEN\" ARAD   \n",
       "1                  ASOCIAȚIA VALORILOR BZ   \n",
       "2                       ASOCIATIA EDUSTAR   \n",
       "3  CIAP LICEUL PEDADOGIC STEFAN BANULESCU   \n",
       "4  CIAP LICEUL NR1 BORCEA_SCOALA PERISORU   \n",
       "\n",
       "                                          schoolType  ...  \\\n",
       "0                              Unitate de învățământ  ...   \n",
       "1                              Unitate de învățământ  ...   \n",
       "2                              Unitate de învățământ  ...   \n",
       "3                              Unitate de învățământ  ...   \n",
       "4  Centru județean de resurse și asistență educaț...  ...   \n",
       "\n",
       "  idSchoolYear.isCurrentYear  idSchoolYear.dateTo idSchoolYear.dateFrom  \\\n",
       "0                          0        1567285199000         1535749200000   \n",
       "1                          0        1567285199000         1535749200000   \n",
       "2                          0        1567285199000         1535749200000   \n",
       "3                          0        1567285199000         1535749200000   \n",
       "4                          0        1567285199000         1535749200000   \n",
       "\n",
       "  idSchoolYear.description idSchoolYear.code idSchoolYear.idSchoolYear  \\\n",
       "0    Anul şcolar 2018-2019         2018-2019                        21   \n",
       "1    Anul şcolar 2018-2019         2018-2019                        21   \n",
       "2    Anul şcolar 2018-2019         2018-2019                        21   \n",
       "3    Anul şcolar 2018-2019         2018-2019                        21   \n",
       "4    Anul şcolar 2018-2019         2018-2019                        21   \n",
       "\n",
       "  schoolNumbers.idSchool schoolNumbers.studyFormationsCount  \\\n",
       "0               11269910                                  4   \n",
       "1               11256876                                  0   \n",
       "2               11256865                                  0   \n",
       "3               11284187                                  0   \n",
       "4               11270113                                  0   \n",
       "\n",
       "  schoolNumbers.studentsCount schoolNumbers.personnelCount  \n",
       "0                         131                            7  \n",
       "1                           0                            0  \n",
       "2                           0                            0  \n",
       "3                           0                            0  \n",
       "4                           0                            0  \n",
       "\n",
       "[5 rows x 36 columns]"
      ]
     },
     "execution_count": 44,
     "metadata": {},
     "output_type": "execute_result"
    }
   ],
   "source": [
    "details_df = pd.json_normalize(data['details'])\n",
    "details_df.head()"
   ]
  },
  {
   "cell_type": "markdown",
   "id": "0e096c2b-6b88-43ea-894a-9398801eeb5e",
   "metadata": {},
   "source": [
    "### About data "
   ]
  },
  {
   "cell_type": "code",
   "execution_count": 7,
   "id": "8b36fd6b-7faf-4f88-8d0d-b2c6db6c81aa",
   "metadata": {
    "collapsed": true,
    "jupyter": {
     "outputs_hidden": true
    },
    "tags": []
   },
   "outputs": [
    {
     "data": {
      "text/plain": [
       "longName\n",
       "CASA CORPULUI DIDACTIC                                5\n",
       "SCOALA PRIMARA DUMBRAVA                               4\n",
       "GRADINITA CU PROGRAM NORMAL DUMBRAVA                  4\n",
       "GRADINITA CU PROGRAM NORMAL BROSTENI                  4\n",
       "GRADINITA CU PROGRAM NORMAL BALESTI                   3\n",
       "                                                     ..\n",
       "GRĂDINIȚA CU PROGRAM NORMAL NR. 2 DUDU                1\n",
       "GRĂDINIȚA CU PROGRAM NORMAL NR. 2 DRĂGHINEȘTI         1\n",
       "GRĂDINIȚA CU PROGRAM NORMAL NR. 2 DEPARAȚI            1\n",
       "GRĂDINIȚA CU PROGRAM NORMAL NR. 2 DELANI              1\n",
       "Școala Superioară Comercială \"Nicolae Kretzulescu\"    1\n",
       "Name: count, Length: 18724, dtype: int64"
      ]
     },
     "execution_count": 7,
     "metadata": {},
     "output_type": "execute_result"
    }
   ],
   "source": [
    "details_df.value_counts('longName')"
   ]
  },
  {
   "cell_type": "code",
   "execution_count": 11,
   "id": "a5c6cedc-3f19-40ad-8ca5-3a74c1525ead",
   "metadata": {
    "collapsed": true,
    "jupyter": {
     "outputs_hidden": true
    },
    "tags": []
   },
   "outputs": [
    {
     "data": {
      "text/plain": [
       "0         True\n",
       "1         True\n",
       "2         True\n",
       "3        False\n",
       "4        False\n",
       "         ...  \n",
       "18910    False\n",
       "18911    False\n",
       "18912    False\n",
       "18913     True\n",
       "18914     True\n",
       "Name: isPj, Length: 18915, dtype: bool"
      ]
     },
     "execution_count": 11,
     "metadata": {},
     "output_type": "execute_result"
    }
   ],
   "source": [
    "details_df.isPj"
   ]
  },
  {
   "cell_type": "code",
   "execution_count": 8,
   "id": "e9e9314b-bb1a-4ee3-a66c-92fab48b7513",
   "metadata": {
    "collapsed": true,
    "jupyter": {
     "outputs_hidden": true
    },
    "tags": []
   },
   "outputs": [
    {
     "data": {
      "text/plain": [
       "0        False\n",
       "1        False\n",
       "2        False\n",
       "3        False\n",
       "4        False\n",
       "         ...  \n",
       "18910    False\n",
       "18911    False\n",
       "18912    False\n",
       "18913    False\n",
       "18914    False\n",
       "Name: longName, Length: 18915, dtype: bool"
      ]
     },
     "execution_count": 8,
     "metadata": {},
     "output_type": "execute_result"
    }
   ],
   "source": [
    "details_df['longName'].isna() "
   ]
  },
  {
   "cell_type": "code",
   "execution_count": 9,
   "id": "1bb7f762-8f95-4329-8e9c-5fdbd58f3e26",
   "metadata": {
    "collapsed": true,
    "jupyter": {
     "outputs_hidden": true
    },
    "tags": []
   },
   "outputs": [
    {
     "data": {
      "text/plain": [
       "0        False\n",
       "1        False\n",
       "2        False\n",
       "3        False\n",
       "4        False\n",
       "         ...  \n",
       "18910    False\n",
       "18911    False\n",
       "18912    False\n",
       "18913    False\n",
       "18914    False\n",
       "Name: shortName, Length: 18915, dtype: bool"
      ]
     },
     "execution_count": 9,
     "metadata": {},
     "output_type": "execute_result"
    }
   ],
   "source": [
    "details_df['shortName'].isna()"
   ]
  },
  {
   "cell_type": "code",
   "execution_count": 10,
   "id": "221ec90b-a901-4767-b9d4-c280dd53eac7",
   "metadata": {
    "collapsed": true,
    "jupyter": {
     "outputs_hidden": true
    },
    "tags": []
   },
   "outputs": [
    {
     "data": {
      "text/plain": [
       "0        False\n",
       "1        False\n",
       "2        False\n",
       "3        False\n",
       "4        False\n",
       "         ...  \n",
       "18910    False\n",
       "18911    False\n",
       "18912    False\n",
       "18913    False\n",
       "18914    False\n",
       "Name: county, Length: 18915, dtype: bool"
      ]
     },
     "execution_count": 10,
     "metadata": {},
     "output_type": "execute_result"
    }
   ],
   "source": [
    "details_df['county'].isna() "
   ]
  },
  {
   "cell_type": "code",
   "execution_count": 67,
   "id": "71f7ed9c-947d-4f76-803e-2549d0e64335",
   "metadata": {
    "collapsed": true,
    "jupyter": {
     "outputs_hidden": true
    },
    "tags": []
   },
   "outputs": [
    {
     "data": {
      "text/plain": [
       "locality\n",
       "CLUJ-NAPOCA             160\n",
       "IAŞI                    155\n",
       "CONSTANŢA               151\n",
       "TIMIŞOARA               132\n",
       "BUCUREŞTI SECTORUL 2    131\n",
       "                       ... \n",
       "BLIDARI                   1\n",
       "GOIEŞTI                   1\n",
       "GRECEŞTI                  1\n",
       "HOLT                      1\n",
       "MAHMUDIA                  1\n",
       "Name: count, Length: 6537, dtype: int64"
      ]
     },
     "execution_count": 67,
     "metadata": {},
     "output_type": "execute_result"
    }
   ],
   "source": [
    "details_df['locality'].value_counts()"
   ]
  },
  {
   "cell_type": "code",
   "execution_count": 101,
   "id": "fb112fdf-ba42-43bb-8a67-afbb66ba924f",
   "metadata": {
    "tags": []
   },
   "outputs": [
    {
     "data": {
      "text/plain": [
       "operatingMode\n",
       "Un schimb/zi              9032\n",
       "Program normal            6312\n",
       "Două schimburi/zi         1783\n",
       "Program prelungit         1737\n",
       "Trei schimburi/zi           31\n",
       "Program săptămânal          18\n",
       "Mai multe schimburi/zi       2\n",
       "Name: count, dtype: int64"
      ]
     },
     "execution_count": 101,
     "metadata": {},
     "output_type": "execute_result"
    }
   ],
   "source": [
    "details_df['operatingMode'].value_counts()"
   ]
  },
  {
   "cell_type": "code",
   "execution_count": 107,
   "id": "28143db6-b76d-45ec-ae03-d8b5104c575a",
   "metadata": {
    "tags": []
   },
   "outputs": [
    {
     "data": {
      "text/plain": [
       "propertyForm\n",
       "Publică de interes naţional şi local    18030\n",
       "Privată                                   885\n",
       "Name: count, dtype: int64"
      ]
     },
     "execution_count": 107,
     "metadata": {},
     "output_type": "execute_result"
    }
   ],
   "source": [
    "details_df['propertyForm'].value_counts()"
   ]
  },
  {
   "cell_type": "code",
   "execution_count": 108,
   "id": "73955161-a91e-433a-8bce-ef0a6eb4b0a5",
   "metadata": {
    "tags": []
   },
   "outputs": [
    {
     "data": {
      "text/plain": [
       "fundingForm\n",
       "Buget           18019\n",
       "Taxă              852\n",
       "Sponsorizare       27\n",
       "Mixtă              15\n",
       "Contract            2\n",
       "Name: count, dtype: int64"
      ]
     },
     "execution_count": 108,
     "metadata": {},
     "output_type": "execute_result"
    }
   ],
   "source": [
    "details_df['fundingForm'].value_counts()"
   ]
  },
  {
   "cell_type": "code",
   "execution_count": 45,
   "id": "5c65ab2c-85c7-4efd-b5f9-f3d41b029c0c",
   "metadata": {
    "tags": []
   },
   "outputs": [
    {
     "data": {
      "text/plain": [
       "187"
      ]
     },
     "execution_count": 45,
     "metadata": {},
     "output_type": "execute_result"
    }
   ],
   "source": [
    "details_df['county'].value_counts().get('CLUJ', 0)\n",
    "\n",
    "filtered_data_cj = details_df[details_df['county'] == 'CLUJ']\n",
    "count_value_loc_cj = filtered_data_cj['locality'].nunique()\n",
    "count_value_loc_cj\n"
   ]
  },
  {
   "cell_type": "markdown",
   "id": "b6258a2a-661d-486d-910f-f525162e0448",
   "metadata": {},
   "source": [
    "### Structure details"
   ]
  },
  {
   "cell_type": "code",
   "execution_count": 81,
   "id": "aad5000b-4e23-4466-a4cf-c5d1f24d3258",
   "metadata": {
    "tags": []
   },
   "outputs": [
    {
     "data": {
      "text/html": [
       "<div>\n",
       "<style scoped>\n",
       "    .dataframe tbody tr th:only-of-type {\n",
       "        vertical-align: middle;\n",
       "    }\n",
       "\n",
       "    .dataframe tbody tr th {\n",
       "        vertical-align: top;\n",
       "    }\n",
       "\n",
       "    .dataframe thead th {\n",
       "        text-align: right;\n",
       "    }\n",
       "</style>\n",
       "<table border=\"1\" class=\"dataframe\">\n",
       "  <thead>\n",
       "    <tr style=\"text-align: right;\">\n",
       "      <th></th>\n",
       "      <th>idSchool</th>\n",
       "      <th>siruesCode</th>\n",
       "      <th>shortName</th>\n",
       "      <th>county</th>\n",
       "      <th>locality</th>\n",
       "      <th>propertyForm</th>\n",
       "      <th>fundingForm</th>\n",
       "      <th>schoolNumbers.studyFormationsCount</th>\n",
       "      <th>schoolNumbers.studentsCount</th>\n",
       "      <th>schoolNumbers.personnelCount</th>\n",
       "    </tr>\n",
       "  </thead>\n",
       "  <tbody>\n",
       "    <tr>\n",
       "      <th>0</th>\n",
       "      <td>11269910</td>\n",
       "      <td>23054595</td>\n",
       "      <td>GRĂDINIŢA \"GOSEN\" ARAD</td>\n",
       "      <td>ARAD</td>\n",
       "      <td>ARAD</td>\n",
       "      <td>Privată</td>\n",
       "      <td>Sponsorizare</td>\n",
       "      <td>4</td>\n",
       "      <td>131</td>\n",
       "      <td>7</td>\n",
       "    </tr>\n",
       "    <tr>\n",
       "      <th>1</th>\n",
       "      <td>11256876</td>\n",
       "      <td>None</td>\n",
       "      <td>ASOCIAȚIA VALORILOR BZ</td>\n",
       "      <td>BUZĂU</td>\n",
       "      <td>RÂMNICU SĂRAT</td>\n",
       "      <td>Privată</td>\n",
       "      <td>Taxă</td>\n",
       "      <td>0</td>\n",
       "      <td>0</td>\n",
       "      <td>0</td>\n",
       "    </tr>\n",
       "    <tr>\n",
       "      <th>2</th>\n",
       "      <td>11256865</td>\n",
       "      <td>None</td>\n",
       "      <td>ASOCIATIA EDUSTAR</td>\n",
       "      <td>BUZĂU</td>\n",
       "      <td>BUZĂU</td>\n",
       "      <td>Privată</td>\n",
       "      <td>Taxă</td>\n",
       "      <td>0</td>\n",
       "      <td>0</td>\n",
       "      <td>0</td>\n",
       "    </tr>\n",
       "    <tr>\n",
       "      <th>3</th>\n",
       "      <td>11284187</td>\n",
       "      <td>None</td>\n",
       "      <td>CIAP LICEUL PEDADOGIC STEFAN BANULESCU</td>\n",
       "      <td>CĂLĂRAŞI</td>\n",
       "      <td>CĂLĂRAŞI</td>\n",
       "      <td>Publică de interes naţional şi local</td>\n",
       "      <td>Buget</td>\n",
       "      <td>0</td>\n",
       "      <td>0</td>\n",
       "      <td>0</td>\n",
       "    </tr>\n",
       "    <tr>\n",
       "      <th>4</th>\n",
       "      <td>11270113</td>\n",
       "      <td>None</td>\n",
       "      <td>CIAP LICEUL NR1 BORCEA_SCOALA PERISORU</td>\n",
       "      <td>CĂLĂRAŞI</td>\n",
       "      <td>BORCEA</td>\n",
       "      <td>Publică de interes naţional şi local</td>\n",
       "      <td>Buget</td>\n",
       "      <td>0</td>\n",
       "      <td>0</td>\n",
       "      <td>0</td>\n",
       "    </tr>\n",
       "    <tr>\n",
       "      <th>...</th>\n",
       "      <td>...</td>\n",
       "      <td>...</td>\n",
       "      <td>...</td>\n",
       "      <td>...</td>\n",
       "      <td>...</td>\n",
       "      <td>...</td>\n",
       "      <td>...</td>\n",
       "      <td>...</td>\n",
       "      <td>...</td>\n",
       "      <td>...</td>\n",
       "    </tr>\n",
       "    <tr>\n",
       "      <th>18910</th>\n",
       "      <td>11271997</td>\n",
       "      <td>362678</td>\n",
       "      <td>ŞCOALĂ PRIMARĂ NR.1 LUPOAIA</td>\n",
       "      <td>BIHOR</td>\n",
       "      <td>LUPOAIA</td>\n",
       "      <td>Publică de interes naţional şi local</td>\n",
       "      <td>Buget</td>\n",
       "      <td>5</td>\n",
       "      <td>0</td>\n",
       "      <td>0</td>\n",
       "    </tr>\n",
       "    <tr>\n",
       "      <th>18911</th>\n",
       "      <td>11262566</td>\n",
       "      <td>None</td>\n",
       "      <td>ȘCOALĂ PRIMARĂ NR.2 I. L. CARAGIALE</td>\n",
       "      <td>DÂMBOVIŢA</td>\n",
       "      <td>I. L. CARAGIALE</td>\n",
       "      <td>Publică de interes naţional şi local</td>\n",
       "      <td>Buget</td>\n",
       "      <td>4</td>\n",
       "      <td>0</td>\n",
       "      <td>0</td>\n",
       "    </tr>\n",
       "    <tr>\n",
       "      <th>18912</th>\n",
       "      <td>11277287</td>\n",
       "      <td>None</td>\n",
       "      <td>S04 \"TAMASI ARON\" ODORHEI</td>\n",
       "      <td>HARGHITA</td>\n",
       "      <td>ODORHEIU SECUIESC</td>\n",
       "      <td>Publică de interes naţional şi local</td>\n",
       "      <td>Buget</td>\n",
       "      <td>1</td>\n",
       "      <td>0</td>\n",
       "      <td>0</td>\n",
       "    </tr>\n",
       "    <tr>\n",
       "      <th>18913</th>\n",
       "      <td>11260231</td>\n",
       "      <td>None</td>\n",
       "      <td>SC PRI MARIA MONTESSORI IASI</td>\n",
       "      <td>IAŞI</td>\n",
       "      <td>IAŞI</td>\n",
       "      <td>Privată</td>\n",
       "      <td>Taxă</td>\n",
       "      <td>5</td>\n",
       "      <td>32</td>\n",
       "      <td>8</td>\n",
       "    </tr>\n",
       "    <tr>\n",
       "      <th>18914</th>\n",
       "      <td>11267114</td>\n",
       "      <td>101</td>\n",
       "      <td>TRANSYLVANIA COLLEGE THE CAMBRIDGE INT. CLUJ</td>\n",
       "      <td>CLUJ</td>\n",
       "      <td>CLUJ-NAPOCA</td>\n",
       "      <td>Privată</td>\n",
       "      <td>Taxă</td>\n",
       "      <td>31</td>\n",
       "      <td>698</td>\n",
       "      <td>88</td>\n",
       "    </tr>\n",
       "  </tbody>\n",
       "</table>\n",
       "<p>18915 rows × 10 columns</p>\n",
       "</div>"
      ],
      "text/plain": [
       "       idSchool siruesCode                                     shortName  \\\n",
       "0      11269910   23054595                        GRĂDINIŢA \"GOSEN\" ARAD   \n",
       "1      11256876       None                        ASOCIAȚIA VALORILOR BZ   \n",
       "2      11256865       None                             ASOCIATIA EDUSTAR   \n",
       "3      11284187       None        CIAP LICEUL PEDADOGIC STEFAN BANULESCU   \n",
       "4      11270113       None        CIAP LICEUL NR1 BORCEA_SCOALA PERISORU   \n",
       "...         ...        ...                                           ...   \n",
       "18910  11271997     362678                   ŞCOALĂ PRIMARĂ NR.1 LUPOAIA   \n",
       "18911  11262566       None           ȘCOALĂ PRIMARĂ NR.2 I. L. CARAGIALE   \n",
       "18912  11277287       None                     S04 \"TAMASI ARON\" ODORHEI   \n",
       "18913  11260231       None                  SC PRI MARIA MONTESSORI IASI   \n",
       "18914  11267114        101  TRANSYLVANIA COLLEGE THE CAMBRIDGE INT. CLUJ   \n",
       "\n",
       "          county           locality                          propertyForm  \\\n",
       "0           ARAD               ARAD                               Privată   \n",
       "1          BUZĂU      RÂMNICU SĂRAT                               Privată   \n",
       "2          BUZĂU              BUZĂU                               Privată   \n",
       "3       CĂLĂRAŞI           CĂLĂRAŞI  Publică de interes naţional şi local   \n",
       "4       CĂLĂRAŞI             BORCEA  Publică de interes naţional şi local   \n",
       "...          ...                ...                                   ...   \n",
       "18910      BIHOR            LUPOAIA  Publică de interes naţional şi local   \n",
       "18911  DÂMBOVIŢA    I. L. CARAGIALE  Publică de interes naţional şi local   \n",
       "18912   HARGHITA  ODORHEIU SECUIESC  Publică de interes naţional şi local   \n",
       "18913       IAŞI               IAŞI                               Privată   \n",
       "18914       CLUJ        CLUJ-NAPOCA                               Privată   \n",
       "\n",
       "        fundingForm  schoolNumbers.studyFormationsCount  \\\n",
       "0      Sponsorizare                                   4   \n",
       "1              Taxă                                   0   \n",
       "2              Taxă                                   0   \n",
       "3             Buget                                   0   \n",
       "4             Buget                                   0   \n",
       "...             ...                                 ...   \n",
       "18910         Buget                                   5   \n",
       "18911         Buget                                   4   \n",
       "18912         Buget                                   1   \n",
       "18913          Taxă                                   5   \n",
       "18914          Taxă                                  31   \n",
       "\n",
       "       schoolNumbers.studentsCount  schoolNumbers.personnelCount  \n",
       "0                              131                             7  \n",
       "1                                0                             0  \n",
       "2                                0                             0  \n",
       "3                                0                             0  \n",
       "4                                0                             0  \n",
       "...                            ...                           ...  \n",
       "18910                            0                             0  \n",
       "18911                            0                             0  \n",
       "18912                            0                             0  \n",
       "18913                           32                             8  \n",
       "18914                          698                            88  \n",
       "\n",
       "[18915 rows x 10 columns]"
      ]
     },
     "execution_count": 81,
     "metadata": {},
     "output_type": "execute_result"
    }
   ],
   "source": [
    "structure_details = details_df[['idSchool', 'siruesCode', 'shortName', 'county', 'locality', 'propertyForm', 'fundingForm', 'schoolNumbers.studyFormationsCount', 'schoolNumbers.studentsCount', 'schoolNumbers.personnelCount']]\n",
    "structure_details"
   ]
  },
  {
   "cell_type": "code",
   "execution_count": 82,
   "id": "acba251c-c5c2-425e-b823-ce1c62eb7348",
   "metadata": {
    "collapsed": true,
    "jupyter": {
     "outputs_hidden": true
    },
    "tags": []
   },
   "outputs": [
    {
     "data": {
      "text/html": [
       "<div>\n",
       "<style scoped>\n",
       "    .dataframe tbody tr th:only-of-type {\n",
       "        vertical-align: middle;\n",
       "    }\n",
       "\n",
       "    .dataframe tbody tr th {\n",
       "        vertical-align: top;\n",
       "    }\n",
       "\n",
       "    .dataframe thead th {\n",
       "        text-align: right;\n",
       "    }\n",
       "</style>\n",
       "<table border=\"1\" class=\"dataframe\">\n",
       "  <thead>\n",
       "    <tr style=\"text-align: right;\">\n",
       "      <th></th>\n",
       "      <th>idSchool</th>\n",
       "      <th>siruesCode</th>\n",
       "      <th>shortName</th>\n",
       "      <th>county</th>\n",
       "      <th>locality</th>\n",
       "      <th>propertyForm</th>\n",
       "      <th>fundingForm</th>\n",
       "      <th>studyFormationsCount</th>\n",
       "      <th>studentsCount</th>\n",
       "      <th>personnelCount</th>\n",
       "    </tr>\n",
       "  </thead>\n",
       "  <tbody>\n",
       "    <tr>\n",
       "      <th>0</th>\n",
       "      <td>11269910</td>\n",
       "      <td>23054595</td>\n",
       "      <td>GRĂDINIŢA \"GOSEN\" ARAD</td>\n",
       "      <td>ARAD</td>\n",
       "      <td>ARAD</td>\n",
       "      <td>Privată</td>\n",
       "      <td>Sponsorizare</td>\n",
       "      <td>4</td>\n",
       "      <td>131</td>\n",
       "      <td>7</td>\n",
       "    </tr>\n",
       "    <tr>\n",
       "      <th>1</th>\n",
       "      <td>11256876</td>\n",
       "      <td>None</td>\n",
       "      <td>ASOCIAȚIA VALORILOR BZ</td>\n",
       "      <td>BUZĂU</td>\n",
       "      <td>RÂMNICU SĂRAT</td>\n",
       "      <td>Privată</td>\n",
       "      <td>Taxă</td>\n",
       "      <td>0</td>\n",
       "      <td>0</td>\n",
       "      <td>0</td>\n",
       "    </tr>\n",
       "    <tr>\n",
       "      <th>2</th>\n",
       "      <td>11256865</td>\n",
       "      <td>None</td>\n",
       "      <td>ASOCIATIA EDUSTAR</td>\n",
       "      <td>BUZĂU</td>\n",
       "      <td>BUZĂU</td>\n",
       "      <td>Privată</td>\n",
       "      <td>Taxă</td>\n",
       "      <td>0</td>\n",
       "      <td>0</td>\n",
       "      <td>0</td>\n",
       "    </tr>\n",
       "    <tr>\n",
       "      <th>3</th>\n",
       "      <td>11284187</td>\n",
       "      <td>None</td>\n",
       "      <td>CIAP LICEUL PEDADOGIC STEFAN BANULESCU</td>\n",
       "      <td>CĂLĂRAŞI</td>\n",
       "      <td>CĂLĂRAŞI</td>\n",
       "      <td>Publică de interes naţional şi local</td>\n",
       "      <td>Buget</td>\n",
       "      <td>0</td>\n",
       "      <td>0</td>\n",
       "      <td>0</td>\n",
       "    </tr>\n",
       "    <tr>\n",
       "      <th>4</th>\n",
       "      <td>11270113</td>\n",
       "      <td>None</td>\n",
       "      <td>CIAP LICEUL NR1 BORCEA_SCOALA PERISORU</td>\n",
       "      <td>CĂLĂRAŞI</td>\n",
       "      <td>BORCEA</td>\n",
       "      <td>Publică de interes naţional şi local</td>\n",
       "      <td>Buget</td>\n",
       "      <td>0</td>\n",
       "      <td>0</td>\n",
       "      <td>0</td>\n",
       "    </tr>\n",
       "    <tr>\n",
       "      <th>...</th>\n",
       "      <td>...</td>\n",
       "      <td>...</td>\n",
       "      <td>...</td>\n",
       "      <td>...</td>\n",
       "      <td>...</td>\n",
       "      <td>...</td>\n",
       "      <td>...</td>\n",
       "      <td>...</td>\n",
       "      <td>...</td>\n",
       "      <td>...</td>\n",
       "    </tr>\n",
       "    <tr>\n",
       "      <th>18910</th>\n",
       "      <td>11271997</td>\n",
       "      <td>362678</td>\n",
       "      <td>ŞCOALĂ PRIMARĂ NR.1 LUPOAIA</td>\n",
       "      <td>BIHOR</td>\n",
       "      <td>LUPOAIA</td>\n",
       "      <td>Publică de interes naţional şi local</td>\n",
       "      <td>Buget</td>\n",
       "      <td>5</td>\n",
       "      <td>0</td>\n",
       "      <td>0</td>\n",
       "    </tr>\n",
       "    <tr>\n",
       "      <th>18911</th>\n",
       "      <td>11262566</td>\n",
       "      <td>None</td>\n",
       "      <td>ȘCOALĂ PRIMARĂ NR.2 I. L. CARAGIALE</td>\n",
       "      <td>DÂMBOVIŢA</td>\n",
       "      <td>I. L. CARAGIALE</td>\n",
       "      <td>Publică de interes naţional şi local</td>\n",
       "      <td>Buget</td>\n",
       "      <td>4</td>\n",
       "      <td>0</td>\n",
       "      <td>0</td>\n",
       "    </tr>\n",
       "    <tr>\n",
       "      <th>18912</th>\n",
       "      <td>11277287</td>\n",
       "      <td>None</td>\n",
       "      <td>S04 \"TAMASI ARON\" ODORHEI</td>\n",
       "      <td>HARGHITA</td>\n",
       "      <td>ODORHEIU SECUIESC</td>\n",
       "      <td>Publică de interes naţional şi local</td>\n",
       "      <td>Buget</td>\n",
       "      <td>1</td>\n",
       "      <td>0</td>\n",
       "      <td>0</td>\n",
       "    </tr>\n",
       "    <tr>\n",
       "      <th>18913</th>\n",
       "      <td>11260231</td>\n",
       "      <td>None</td>\n",
       "      <td>SC PRI MARIA MONTESSORI IASI</td>\n",
       "      <td>IAŞI</td>\n",
       "      <td>IAŞI</td>\n",
       "      <td>Privată</td>\n",
       "      <td>Taxă</td>\n",
       "      <td>5</td>\n",
       "      <td>32</td>\n",
       "      <td>8</td>\n",
       "    </tr>\n",
       "    <tr>\n",
       "      <th>18914</th>\n",
       "      <td>11267114</td>\n",
       "      <td>101</td>\n",
       "      <td>TRANSYLVANIA COLLEGE THE CAMBRIDGE INT. CLUJ</td>\n",
       "      <td>CLUJ</td>\n",
       "      <td>CLUJ-NAPOCA</td>\n",
       "      <td>Privată</td>\n",
       "      <td>Taxă</td>\n",
       "      <td>31</td>\n",
       "      <td>698</td>\n",
       "      <td>88</td>\n",
       "    </tr>\n",
       "  </tbody>\n",
       "</table>\n",
       "<p>18915 rows × 10 columns</p>\n",
       "</div>"
      ],
      "text/plain": [
       "       idSchool siruesCode                                     shortName  \\\n",
       "0      11269910   23054595                        GRĂDINIŢA \"GOSEN\" ARAD   \n",
       "1      11256876       None                        ASOCIAȚIA VALORILOR BZ   \n",
       "2      11256865       None                             ASOCIATIA EDUSTAR   \n",
       "3      11284187       None        CIAP LICEUL PEDADOGIC STEFAN BANULESCU   \n",
       "4      11270113       None        CIAP LICEUL NR1 BORCEA_SCOALA PERISORU   \n",
       "...         ...        ...                                           ...   \n",
       "18910  11271997     362678                   ŞCOALĂ PRIMARĂ NR.1 LUPOAIA   \n",
       "18911  11262566       None           ȘCOALĂ PRIMARĂ NR.2 I. L. CARAGIALE   \n",
       "18912  11277287       None                     S04 \"TAMASI ARON\" ODORHEI   \n",
       "18913  11260231       None                  SC PRI MARIA MONTESSORI IASI   \n",
       "18914  11267114        101  TRANSYLVANIA COLLEGE THE CAMBRIDGE INT. CLUJ   \n",
       "\n",
       "          county           locality                          propertyForm  \\\n",
       "0           ARAD               ARAD                               Privată   \n",
       "1          BUZĂU      RÂMNICU SĂRAT                               Privată   \n",
       "2          BUZĂU              BUZĂU                               Privată   \n",
       "3       CĂLĂRAŞI           CĂLĂRAŞI  Publică de interes naţional şi local   \n",
       "4       CĂLĂRAŞI             BORCEA  Publică de interes naţional şi local   \n",
       "...          ...                ...                                   ...   \n",
       "18910      BIHOR            LUPOAIA  Publică de interes naţional şi local   \n",
       "18911  DÂMBOVIŢA    I. L. CARAGIALE  Publică de interes naţional şi local   \n",
       "18912   HARGHITA  ODORHEIU SECUIESC  Publică de interes naţional şi local   \n",
       "18913       IAŞI               IAŞI                               Privată   \n",
       "18914       CLUJ        CLUJ-NAPOCA                               Privată   \n",
       "\n",
       "        fundingForm  studyFormationsCount  studentsCount  personnelCount  \n",
       "0      Sponsorizare                     4            131               7  \n",
       "1              Taxă                     0              0               0  \n",
       "2              Taxă                     0              0               0  \n",
       "3             Buget                     0              0               0  \n",
       "4             Buget                     0              0               0  \n",
       "...             ...                   ...            ...             ...  \n",
       "18910         Buget                     5              0               0  \n",
       "18911         Buget                     4              0               0  \n",
       "18912         Buget                     1              0               0  \n",
       "18913          Taxă                     5             32               8  \n",
       "18914          Taxă                    31            698              88  \n",
       "\n",
       "[18915 rows x 10 columns]"
      ]
     },
     "execution_count": 82,
     "metadata": {},
     "output_type": "execute_result"
    }
   ],
   "source": [
    "structure_details.rename(columns = {'schoolNumbers.studyFormationsCount': 'studyFormationsCount', 'schoolNumbers.studentsCount':'studentsCount', 'schoolNumbers.personnelCount': 'personnelCount'}, inplace = False) "
   ]
  },
  {
   "cell_type": "code",
   "execution_count": 83,
   "id": "5e573d29-16f2-42b3-a46b-de7463643b5b",
   "metadata": {
    "collapsed": true,
    "jupyter": {
     "outputs_hidden": true
    },
    "tags": []
   },
   "outputs": [
    {
     "data": {
      "text/plain": [
       "county\n",
       "BIHOR                   783\n",
       "SUCEAVA                 772\n",
       "VASLUI                  698\n",
       "IAŞI                    677\n",
       "PRAHOVA                 659\n",
       "MUNICIPIUL BUCUREŞTI    657\n",
       "MUREŞ                   629\n",
       "TIMIŞ                   617\n",
       "DOLJ                    592\n",
       "BUZĂU                   538\n",
       "BACĂU                   537\n",
       "ALBA                    530\n",
       "CONSTANŢA               530\n",
       "ARGEŞ                   521\n",
       "DÂMBOVIŢA               521\n",
       "GORJ                    518\n",
       "BOTOŞANI                504\n",
       "VRANCEA                 483\n",
       "ARAD                    461\n",
       "GALAŢI                  446\n",
       "CLUJ                    444\n",
       "VÂLCEA                  440\n",
       "OLT                     433\n",
       "CARAŞ-SEVERIN           430\n",
       "BRAŞOV                  427\n",
       "MARAMUREŞ               418\n",
       "HARGHITA                406\n",
       "TELEORMAN               365\n",
       "SĂLAJ                   361\n",
       "SIBIU                   360\n",
       "NEAMŢ                   346\n",
       "CĂLĂRAŞI                342\n",
       "BISTRIŢA-NĂSĂUD         330\n",
       "COVASNA                 321\n",
       "SATU MARE               299\n",
       "HUNEDOARA               275\n",
       "BRĂILA                  271\n",
       "ILFOV                   256\n",
       "MEHEDINŢI               220\n",
       "GIURGIU                 194\n",
       "IALOMIŢA                152\n",
       "TULCEA                  152\n",
       "Name: count, dtype: int64"
      ]
     },
     "execution_count": 83,
     "metadata": {},
     "output_type": "execute_result"
    }
   ],
   "source": [
    "structure_details.county.value_counts()"
   ]
  },
  {
   "cell_type": "markdown",
   "id": "0901d349-6462-42db-8236-5782f0e005a0",
   "metadata": {},
   "source": [
    "### Filtered data -- County Cluj"
   ]
  },
  {
   "cell_type": "code",
   "execution_count": 84,
   "id": "c6da758c-e4c8-4a6d-bed8-d2827a556400",
   "metadata": {
    "tags": []
   },
   "outputs": [],
   "source": [
    "cj_county_details = structure_details[structure_details['county'].str.strip() == 'CLUJ']"
   ]
  },
  {
   "cell_type": "code",
   "execution_count": 85,
   "id": "a8dac549-7aca-4eeb-a78c-a12820dc5f9e",
   "metadata": {
    "tags": []
   },
   "outputs": [
    {
     "data": {
      "text/plain": [
       "Index(['idSchool', 'siruesCode', 'shortName', 'county', 'locality',\n",
       "       'propertyForm', 'fundingForm', 'schoolNumbers.studyFormationsCount',\n",
       "       'schoolNumbers.studentsCount', 'schoolNumbers.personnelCount'],\n",
       "      dtype='object')"
      ]
     },
     "execution_count": 85,
     "metadata": {},
     "output_type": "execute_result"
    }
   ],
   "source": [
    "cj_county_details.columns"
   ]
  },
  {
   "cell_type": "code",
   "execution_count": 88,
   "id": "dd6a87f0-475b-4cfd-8fad-54078b1f1a2b",
   "metadata": {
    "tags": []
   },
   "outputs": [
    {
     "data": {
      "text/html": [
       "<div>\n",
       "<style scoped>\n",
       "    .dataframe tbody tr th:only-of-type {\n",
       "        vertical-align: middle;\n",
       "    }\n",
       "\n",
       "    .dataframe tbody tr th {\n",
       "        vertical-align: top;\n",
       "    }\n",
       "\n",
       "    .dataframe thead th {\n",
       "        text-align: right;\n",
       "    }\n",
       "</style>\n",
       "<table border=\"1\" class=\"dataframe\">\n",
       "  <thead>\n",
       "    <tr style=\"text-align: right;\">\n",
       "      <th></th>\n",
       "      <th>idSchool</th>\n",
       "      <th>siruesCode</th>\n",
       "      <th>shortName</th>\n",
       "      <th>county</th>\n",
       "      <th>locality</th>\n",
       "      <th>propertyForm</th>\n",
       "      <th>fundingForm</th>\n",
       "      <th>schoolNumbers.studyFormationsCount</th>\n",
       "      <th>schoolNumbers.studentsCount</th>\n",
       "      <th>schoolNumbers.personnelCount</th>\n",
       "    </tr>\n",
       "  </thead>\n",
       "  <tbody>\n",
       "    <tr>\n",
       "      <th>48</th>\n",
       "      <td>11266861</td>\n",
       "      <td>123007621</td>\n",
       "      <td>CASA CORPULUI DIDACTIC CLUJ</td>\n",
       "      <td>CLUJ</td>\n",
       "      <td>CLUJ-NAPOCA</td>\n",
       "      <td>Publică de interes naţional şi local</td>\n",
       "      <td>Buget</td>\n",
       "      <td>0</td>\n",
       "      <td>0</td>\n",
       "      <td>100</td>\n",
       "    </tr>\n",
       "    <tr>\n",
       "      <th>146</th>\n",
       "      <td>11266905</td>\n",
       "      <td>12000012</td>\n",
       "      <td>C.J.R.A.E. CLUJ</td>\n",
       "      <td>CLUJ</td>\n",
       "      <td>CLUJ-NAPOCA</td>\n",
       "      <td>Publică de interes naţional şi local</td>\n",
       "      <td>Buget</td>\n",
       "      <td>0</td>\n",
       "      <td>0</td>\n",
       "      <td>157</td>\n",
       "    </tr>\n",
       "    <tr>\n",
       "      <th>227</th>\n",
       "      <td>11266906</td>\n",
       "      <td>120447612</td>\n",
       "      <td>CSEI CJ (SC. SPEC. 1)</td>\n",
       "      <td>CLUJ</td>\n",
       "      <td>CLUJ-NAPOCA</td>\n",
       "      <td>Publică de interes naţional şi local</td>\n",
       "      <td>Buget</td>\n",
       "      <td>26</td>\n",
       "      <td>148</td>\n",
       "      <td>142</td>\n",
       "    </tr>\n",
       "    <tr>\n",
       "      <th>268</th>\n",
       "      <td>11266863</td>\n",
       "      <td>121121021</td>\n",
       "      <td>CLUBUL COPIILOR CÂMPIA TURZII</td>\n",
       "      <td>CLUJ</td>\n",
       "      <td>CÂMPIA TURZII</td>\n",
       "      <td>Publică de interes naţional şi local</td>\n",
       "      <td>Buget</td>\n",
       "      <td>0</td>\n",
       "      <td>0</td>\n",
       "      <td>0</td>\n",
       "    </tr>\n",
       "    <tr>\n",
       "      <th>285</th>\n",
       "      <td>11266864</td>\n",
       "      <td>121121007</td>\n",
       "      <td>CLUBUL COPIILOR DEJ</td>\n",
       "      <td>CLUJ</td>\n",
       "      <td>DEJ</td>\n",
       "      <td>Publică de interes naţional şi local</td>\n",
       "      <td>Buget</td>\n",
       "      <td>0</td>\n",
       "      <td>0</td>\n",
       "      <td>0</td>\n",
       "    </tr>\n",
       "    <tr>\n",
       "      <th>...</th>\n",
       "      <td>...</td>\n",
       "      <td>...</td>\n",
       "      <td>...</td>\n",
       "      <td>...</td>\n",
       "      <td>...</td>\n",
       "      <td>...</td>\n",
       "      <td>...</td>\n",
       "      <td>...</td>\n",
       "      <td>...</td>\n",
       "      <td>...</td>\n",
       "    </tr>\n",
       "    <tr>\n",
       "      <th>18806</th>\n",
       "      <td>11267357</td>\n",
       "      <td>120440066</td>\n",
       "      <td>ȘCOALA PRIMARĂ VLAHA, COM. SĂVĂDISLA</td>\n",
       "      <td>CLUJ</td>\n",
       "      <td>VLAHA</td>\n",
       "      <td>Publică de interes naţional şi local</td>\n",
       "      <td>Buget</td>\n",
       "      <td>8</td>\n",
       "      <td>0</td>\n",
       "      <td>0</td>\n",
       "    </tr>\n",
       "    <tr>\n",
       "      <th>18870</th>\n",
       "      <td>11267360</td>\n",
       "      <td>120440717</td>\n",
       "      <td>ȘCOALA PROFESIONALĂ POIANA TURDA</td>\n",
       "      <td>CLUJ</td>\n",
       "      <td>TURDA</td>\n",
       "      <td>Publică de interes naţional şi local</td>\n",
       "      <td>Buget</td>\n",
       "      <td>26</td>\n",
       "      <td>411</td>\n",
       "      <td>39</td>\n",
       "    </tr>\n",
       "    <tr>\n",
       "      <th>18871</th>\n",
       "      <td>11267345</td>\n",
       "      <td>120438829</td>\n",
       "      <td>ȘCOALA PROFESIONALĂ RĂSCRUCI, COM. BONȚIDA</td>\n",
       "      <td>CLUJ</td>\n",
       "      <td>RĂSCRUCI</td>\n",
       "      <td>Publică de interes naţional şi local</td>\n",
       "      <td>Buget</td>\n",
       "      <td>23</td>\n",
       "      <td>250</td>\n",
       "      <td>42</td>\n",
       "    </tr>\n",
       "    <tr>\n",
       "      <th>18883</th>\n",
       "      <td>11267124</td>\n",
       "      <td>120849509</td>\n",
       "      <td>ȘCOALA PROFESIONALĂ SPECIALĂ \"SAMUS\" CLUJ - NA...</td>\n",
       "      <td>CLUJ</td>\n",
       "      <td>CLUJ-NAPOCA</td>\n",
       "      <td>Publică de interes naţional şi local</td>\n",
       "      <td>Buget</td>\n",
       "      <td>37</td>\n",
       "      <td>245</td>\n",
       "      <td>123</td>\n",
       "    </tr>\n",
       "    <tr>\n",
       "      <th>18914</th>\n",
       "      <td>11267114</td>\n",
       "      <td>101</td>\n",
       "      <td>TRANSYLVANIA COLLEGE THE CAMBRIDGE INT. CLUJ</td>\n",
       "      <td>CLUJ</td>\n",
       "      <td>CLUJ-NAPOCA</td>\n",
       "      <td>Privată</td>\n",
       "      <td>Taxă</td>\n",
       "      <td>31</td>\n",
       "      <td>698</td>\n",
       "      <td>88</td>\n",
       "    </tr>\n",
       "  </tbody>\n",
       "</table>\n",
       "<p>311 rows × 10 columns</p>\n",
       "</div>"
      ],
      "text/plain": [
       "       idSchool siruesCode                                          shortName  \\\n",
       "48     11266861  123007621                        CASA CORPULUI DIDACTIC CLUJ   \n",
       "146    11266905   12000012                                    C.J.R.A.E. CLUJ   \n",
       "227    11266906  120447612                              CSEI CJ (SC. SPEC. 1)   \n",
       "268    11266863  121121021                      CLUBUL COPIILOR CÂMPIA TURZII   \n",
       "285    11266864  121121007                                CLUBUL COPIILOR DEJ   \n",
       "...         ...        ...                                                ...   \n",
       "18806  11267357  120440066               ȘCOALA PRIMARĂ VLAHA, COM. SĂVĂDISLA   \n",
       "18870  11267360  120440717                   ȘCOALA PROFESIONALĂ POIANA TURDA   \n",
       "18871  11267345  120438829         ȘCOALA PROFESIONALĂ RĂSCRUCI, COM. BONȚIDA   \n",
       "18883  11267124  120849509  ȘCOALA PROFESIONALĂ SPECIALĂ \"SAMUS\" CLUJ - NA...   \n",
       "18914  11267114        101       TRANSYLVANIA COLLEGE THE CAMBRIDGE INT. CLUJ   \n",
       "\n",
       "      county       locality                          propertyForm fundingForm  \\\n",
       "48      CLUJ    CLUJ-NAPOCA  Publică de interes naţional şi local       Buget   \n",
       "146     CLUJ    CLUJ-NAPOCA  Publică de interes naţional şi local       Buget   \n",
       "227     CLUJ    CLUJ-NAPOCA  Publică de interes naţional şi local       Buget   \n",
       "268     CLUJ  CÂMPIA TURZII  Publică de interes naţional şi local       Buget   \n",
       "285     CLUJ            DEJ  Publică de interes naţional şi local       Buget   \n",
       "...      ...            ...                                   ...         ...   \n",
       "18806   CLUJ          VLAHA  Publică de interes naţional şi local       Buget   \n",
       "18870   CLUJ          TURDA  Publică de interes naţional şi local       Buget   \n",
       "18871   CLUJ       RĂSCRUCI  Publică de interes naţional şi local       Buget   \n",
       "18883   CLUJ    CLUJ-NAPOCA  Publică de interes naţional şi local       Buget   \n",
       "18914   CLUJ    CLUJ-NAPOCA                               Privată        Taxă   \n",
       "\n",
       "       schoolNumbers.studyFormationsCount  schoolNumbers.studentsCount  \\\n",
       "48                                      0                            0   \n",
       "146                                     0                            0   \n",
       "227                                    26                          148   \n",
       "268                                     0                            0   \n",
       "285                                     0                            0   \n",
       "...                                   ...                          ...   \n",
       "18806                                   8                            0   \n",
       "18870                                  26                          411   \n",
       "18871                                  23                          250   \n",
       "18883                                  37                          245   \n",
       "18914                                  31                          698   \n",
       "\n",
       "       schoolNumbers.personnelCount  \n",
       "48                              100  \n",
       "146                             157  \n",
       "227                             142  \n",
       "268                               0  \n",
       "285                               0  \n",
       "...                             ...  \n",
       "18806                             0  \n",
       "18870                            39  \n",
       "18871                            42  \n",
       "18883                           123  \n",
       "18914                            88  \n",
       "\n",
       "[311 rows x 10 columns]"
      ]
     },
     "execution_count": 88,
     "metadata": {},
     "output_type": "execute_result"
    }
   ],
   "source": [
    "result = cj_county_details[cj_county_details['siruesCode'].isna()]\n",
    "\n",
    "cj_county_details = cj_county_details.dropna()\n",
    "cj_county_details"
   ]
  },
  {
   "cell_type": "code",
   "execution_count": 51,
   "id": "ecad95bb-567c-44f0-bb69-20ff65e63621",
   "metadata": {
    "collapsed": true,
    "jupyter": {
     "outputs_hidden": true
    },
    "tags": []
   },
   "outputs": [
    {
     "name": "stderr",
     "output_type": "stream",
     "text": [
      "C:\\Users\\Diana\\AppData\\Local\\Temp\\ipykernel_15680\\1192601544.py:10: SettingWithCopyWarning: \n",
      "A value is trying to be set on a copy of a slice from a DataFrame.\n",
      "Try using .loc[row_indexer,col_indexer] = value instead\n",
      "\n",
      "See the caveats in the documentation: https://pandas.pydata.org/pandas-docs/stable/user_guide/indexing.html#returning-a-view-versus-a-copy\n",
      "  cj_county_details[\"locality\"] = cj_county_details[\"locality\"].str.translate(translation_table)\n"
     ]
    }
   ],
   "source": [
    "#INLOCUIRE DIAG+CRITICE\n",
    "\n",
    "diacr = {\"Ă\":\"A\", \"Ş\":\"S\",\"Ţ\":\"T\",\"Â\":\"A\",\"Î\":\"I\"}\n",
    "\n",
    "# Create a translation table\n",
    "translation_table = str.maketrans(diacr)\n",
    "\n",
    "# Apply the translation to the specified column\n",
    "\n",
    "cj_county_details[\"locality\"] = cj_county_details[\"locality\"].str.translate(translation_table)"
   ]
  },
  {
   "cell_type": "code",
   "execution_count": 52,
   "id": "ad5a9cdf-1d0f-432d-96d1-313a986edffb",
   "metadata": {
    "collapsed": true,
    "jupyter": {
     "outputs_hidden": true
    },
    "tags": []
   },
   "outputs": [
    {
     "ename": "KeyError",
     "evalue": "\"None of [Index(['Locality', 'County'], dtype='object')] are in the [columns]\"",
     "output_type": "error",
     "traceback": [
      "\u001b[1;31m---------------------------------------------------------------------------\u001b[0m",
      "\u001b[1;31mKeyError\u001b[0m                                  Traceback (most recent call last)",
      "Cell \u001b[1;32mIn[52], line 1\u001b[0m\n\u001b[1;32m----> 1\u001b[0m cj_county_details[\u001b[38;5;124m\"\u001b[39m\u001b[38;5;124mLoc_jud\u001b[39m\u001b[38;5;124m\"\u001b[39m] \u001b[38;5;241m=\u001b[39m \u001b[43mcj_county_details\u001b[49m\u001b[43m[\u001b[49m\u001b[43m[\u001b[49m\u001b[38;5;124;43m\"\u001b[39;49m\u001b[38;5;124;43mLocality\u001b[39;49m\u001b[38;5;124;43m\"\u001b[39;49m\u001b[43m,\u001b[49m\u001b[43m \u001b[49m\u001b[38;5;124;43m\"\u001b[39;49m\u001b[38;5;124;43mCounty\u001b[39;49m\u001b[38;5;124;43m\"\u001b[39;49m\u001b[43m]\u001b[49m\u001b[43m]\u001b[49m\u001b[38;5;241m.\u001b[39mapply(\u001b[38;5;28;01mlambda\u001b[39;00m x: \u001b[38;5;124m\"\u001b[39m\u001b[38;5;124m_\u001b[39m\u001b[38;5;124m\"\u001b[39m\u001b[38;5;241m.\u001b[39mjoin(x\u001b[38;5;241m.\u001b[39mastype(\u001b[38;5;28mstr\u001b[39m)), axis \u001b[38;5;241m=\u001b[39m \u001b[38;5;241m1\u001b[39m)\n",
      "File \u001b[1;32mC:\\ProgramData\\anaconda3\\envs\\new_env_course\\lib\\site-packages\\pandas\\core\\frame.py:3899\u001b[0m, in \u001b[0;36mDataFrame.__getitem__\u001b[1;34m(self, key)\u001b[0m\n\u001b[0;32m   3897\u001b[0m     \u001b[38;5;28;01mif\u001b[39;00m is_iterator(key):\n\u001b[0;32m   3898\u001b[0m         key \u001b[38;5;241m=\u001b[39m \u001b[38;5;28mlist\u001b[39m(key)\n\u001b[1;32m-> 3899\u001b[0m     indexer \u001b[38;5;241m=\u001b[39m \u001b[38;5;28;43mself\u001b[39;49m\u001b[38;5;241;43m.\u001b[39;49m\u001b[43mcolumns\u001b[49m\u001b[38;5;241;43m.\u001b[39;49m\u001b[43m_get_indexer_strict\u001b[49m\u001b[43m(\u001b[49m\u001b[43mkey\u001b[49m\u001b[43m,\u001b[49m\u001b[43m \u001b[49m\u001b[38;5;124;43m\"\u001b[39;49m\u001b[38;5;124;43mcolumns\u001b[39;49m\u001b[38;5;124;43m\"\u001b[39;49m\u001b[43m)\u001b[49m[\u001b[38;5;241m1\u001b[39m]\n\u001b[0;32m   3901\u001b[0m \u001b[38;5;66;03m# take() does not accept boolean indexers\u001b[39;00m\n\u001b[0;32m   3902\u001b[0m \u001b[38;5;28;01mif\u001b[39;00m \u001b[38;5;28mgetattr\u001b[39m(indexer, \u001b[38;5;124m\"\u001b[39m\u001b[38;5;124mdtype\u001b[39m\u001b[38;5;124m\"\u001b[39m, \u001b[38;5;28;01mNone\u001b[39;00m) \u001b[38;5;241m==\u001b[39m \u001b[38;5;28mbool\u001b[39m:\n",
      "File \u001b[1;32mC:\\ProgramData\\anaconda3\\envs\\new_env_course\\lib\\site-packages\\pandas\\core\\indexes\\base.py:6114\u001b[0m, in \u001b[0;36mIndex._get_indexer_strict\u001b[1;34m(self, key, axis_name)\u001b[0m\n\u001b[0;32m   6111\u001b[0m \u001b[38;5;28;01melse\u001b[39;00m:\n\u001b[0;32m   6112\u001b[0m     keyarr, indexer, new_indexer \u001b[38;5;241m=\u001b[39m \u001b[38;5;28mself\u001b[39m\u001b[38;5;241m.\u001b[39m_reindex_non_unique(keyarr)\n\u001b[1;32m-> 6114\u001b[0m \u001b[38;5;28;43mself\u001b[39;49m\u001b[38;5;241;43m.\u001b[39;49m\u001b[43m_raise_if_missing\u001b[49m\u001b[43m(\u001b[49m\u001b[43mkeyarr\u001b[49m\u001b[43m,\u001b[49m\u001b[43m \u001b[49m\u001b[43mindexer\u001b[49m\u001b[43m,\u001b[49m\u001b[43m \u001b[49m\u001b[43maxis_name\u001b[49m\u001b[43m)\u001b[49m\n\u001b[0;32m   6116\u001b[0m keyarr \u001b[38;5;241m=\u001b[39m \u001b[38;5;28mself\u001b[39m\u001b[38;5;241m.\u001b[39mtake(indexer)\n\u001b[0;32m   6117\u001b[0m \u001b[38;5;28;01mif\u001b[39;00m \u001b[38;5;28misinstance\u001b[39m(key, Index):\n\u001b[0;32m   6118\u001b[0m     \u001b[38;5;66;03m# GH 42790 - Preserve name from an Index\u001b[39;00m\n",
      "File \u001b[1;32mC:\\ProgramData\\anaconda3\\envs\\new_env_course\\lib\\site-packages\\pandas\\core\\indexes\\base.py:6175\u001b[0m, in \u001b[0;36mIndex._raise_if_missing\u001b[1;34m(self, key, indexer, axis_name)\u001b[0m\n\u001b[0;32m   6173\u001b[0m     \u001b[38;5;28;01mif\u001b[39;00m use_interval_msg:\n\u001b[0;32m   6174\u001b[0m         key \u001b[38;5;241m=\u001b[39m \u001b[38;5;28mlist\u001b[39m(key)\n\u001b[1;32m-> 6175\u001b[0m     \u001b[38;5;28;01mraise\u001b[39;00m \u001b[38;5;167;01mKeyError\u001b[39;00m(\u001b[38;5;124mf\u001b[39m\u001b[38;5;124m\"\u001b[39m\u001b[38;5;124mNone of [\u001b[39m\u001b[38;5;132;01m{\u001b[39;00mkey\u001b[38;5;132;01m}\u001b[39;00m\u001b[38;5;124m] are in the [\u001b[39m\u001b[38;5;132;01m{\u001b[39;00maxis_name\u001b[38;5;132;01m}\u001b[39;00m\u001b[38;5;124m]\u001b[39m\u001b[38;5;124m\"\u001b[39m)\n\u001b[0;32m   6177\u001b[0m not_found \u001b[38;5;241m=\u001b[39m \u001b[38;5;28mlist\u001b[39m(ensure_index(key)[missing_mask\u001b[38;5;241m.\u001b[39mnonzero()[\u001b[38;5;241m0\u001b[39m]]\u001b[38;5;241m.\u001b[39munique())\n\u001b[0;32m   6178\u001b[0m \u001b[38;5;28;01mraise\u001b[39;00m \u001b[38;5;167;01mKeyError\u001b[39;00m(\u001b[38;5;124mf\u001b[39m\u001b[38;5;124m\"\u001b[39m\u001b[38;5;132;01m{\u001b[39;00mnot_found\u001b[38;5;132;01m}\u001b[39;00m\u001b[38;5;124m not in index\u001b[39m\u001b[38;5;124m\"\u001b[39m)\n",
      "\u001b[1;31mKeyError\u001b[0m: \"None of [Index(['Locality', 'County'], dtype='object')] are in the [columns]\""
     ]
    }
   ],
   "source": [
    "cj_county_details[\"Loc_jud\"] = cj_county_details[[\"Locality\", \"County\"]].apply(lambda x: \"_\".join(x.astype(str)), axis = 1)"
   ]
  },
  {
   "cell_type": "code",
   "execution_count": 77,
   "id": "8e3cf4d7-895a-4c9a-a8a7-d8b929b26369",
   "metadata": {
    "tags": []
   },
   "outputs": [
    {
     "data": {
      "text/html": [
       "<div>\n",
       "<style scoped>\n",
       "    .dataframe tbody tr th:only-of-type {\n",
       "        vertical-align: middle;\n",
       "    }\n",
       "\n",
       "    .dataframe tbody tr th {\n",
       "        vertical-align: top;\n",
       "    }\n",
       "\n",
       "    .dataframe thead th {\n",
       "        text-align: right;\n",
       "    }\n",
       "</style>\n",
       "<table border=\"1\" class=\"dataframe\">\n",
       "  <thead>\n",
       "    <tr style=\"text-align: right;\">\n",
       "      <th></th>\n",
       "      <th>idSchool</th>\n",
       "      <th>siruesCode</th>\n",
       "      <th>shortName</th>\n",
       "      <th>county</th>\n",
       "      <th>locality</th>\n",
       "      <th>operatingMode</th>\n",
       "      <th>propertyForm</th>\n",
       "      <th>fundingForm</th>\n",
       "      <th>schoolNumbers.studyFormationsCount</th>\n",
       "      <th>schoolNumbers.studentsCount</th>\n",
       "      <th>schoolNumbers.personnelCount</th>\n",
       "    </tr>\n",
       "  </thead>\n",
       "  <tbody>\n",
       "    <tr>\n",
       "      <th>48</th>\n",
       "      <td>11266861</td>\n",
       "      <td>123007621</td>\n",
       "      <td>CASA CORPULUI DIDACTIC CLUJ</td>\n",
       "      <td>CLUJ</td>\n",
       "      <td>CLUJ-NAPOCA</td>\n",
       "      <td>Un schimb/zi</td>\n",
       "      <td>Publică de interes naţional şi local</td>\n",
       "      <td>Buget</td>\n",
       "      <td>0</td>\n",
       "      <td>0</td>\n",
       "      <td>100</td>\n",
       "    </tr>\n",
       "    <tr>\n",
       "      <th>146</th>\n",
       "      <td>11266905</td>\n",
       "      <td>12000012</td>\n",
       "      <td>C.J.R.A.E. CLUJ</td>\n",
       "      <td>CLUJ</td>\n",
       "      <td>CLUJ-NAPOCA</td>\n",
       "      <td>Un schimb/zi</td>\n",
       "      <td>Publică de interes naţional şi local</td>\n",
       "      <td>Buget</td>\n",
       "      <td>0</td>\n",
       "      <td>0</td>\n",
       "      <td>157</td>\n",
       "    </tr>\n",
       "    <tr>\n",
       "      <th>227</th>\n",
       "      <td>11266906</td>\n",
       "      <td>120447612</td>\n",
       "      <td>CSEI CJ (SC. SPEC. 1)</td>\n",
       "      <td>CLUJ</td>\n",
       "      <td>CLUJ-NAPOCA</td>\n",
       "      <td>Un schimb/zi</td>\n",
       "      <td>Publică de interes naţional şi local</td>\n",
       "      <td>Buget</td>\n",
       "      <td>26</td>\n",
       "      <td>148</td>\n",
       "      <td>142</td>\n",
       "    </tr>\n",
       "    <tr>\n",
       "      <th>268</th>\n",
       "      <td>11266863</td>\n",
       "      <td>121121021</td>\n",
       "      <td>CLUBUL COPIILOR CÂMPIA TURZII</td>\n",
       "      <td>CLUJ</td>\n",
       "      <td>CÂMPIA TURZII</td>\n",
       "      <td>Un schimb/zi</td>\n",
       "      <td>Publică de interes naţional şi local</td>\n",
       "      <td>Buget</td>\n",
       "      <td>0</td>\n",
       "      <td>0</td>\n",
       "      <td>0</td>\n",
       "    </tr>\n",
       "    <tr>\n",
       "      <th>285</th>\n",
       "      <td>11266864</td>\n",
       "      <td>121121007</td>\n",
       "      <td>CLUBUL COPIILOR DEJ</td>\n",
       "      <td>CLUJ</td>\n",
       "      <td>DEJ</td>\n",
       "      <td>Un schimb/zi</td>\n",
       "      <td>Publică de interes naţional şi local</td>\n",
       "      <td>Buget</td>\n",
       "      <td>0</td>\n",
       "      <td>0</td>\n",
       "      <td>0</td>\n",
       "    </tr>\n",
       "    <tr>\n",
       "      <th>294</th>\n",
       "      <td>11266865</td>\n",
       "      <td>121121033</td>\n",
       "      <td>CLUBUL COPIILOR GHERLA</td>\n",
       "      <td>CLUJ</td>\n",
       "      <td>GHERLA</td>\n",
       "      <td>Un schimb/zi</td>\n",
       "      <td>Publică de interes naţional şi local</td>\n",
       "      <td>Buget</td>\n",
       "      <td>0</td>\n",
       "      <td>0</td>\n",
       "      <td>0</td>\n",
       "    </tr>\n",
       "    <tr>\n",
       "      <th>299</th>\n",
       "      <td>11266866</td>\n",
       "      <td>123003546</td>\n",
       "      <td>CLUBUL COPIILOR HUEDIN</td>\n",
       "      <td>CLUJ</td>\n",
       "      <td>HUEDIN</td>\n",
       "      <td>Un schimb/zi</td>\n",
       "      <td>Publică de interes naţional şi local</td>\n",
       "      <td>Buget</td>\n",
       "      <td>0</td>\n",
       "      <td>0</td>\n",
       "      <td>0</td>\n",
       "    </tr>\n",
       "    <tr>\n",
       "      <th>400</th>\n",
       "      <td>11266867</td>\n",
       "      <td>121121019</td>\n",
       "      <td>CLUBUL COPIILOR TURDA</td>\n",
       "      <td>CLUJ</td>\n",
       "      <td>TURDA</td>\n",
       "      <td>Un schimb/zi</td>\n",
       "      <td>Publică de interes naţional şi local</td>\n",
       "      <td>Buget</td>\n",
       "      <td>0</td>\n",
       "      <td>0</td>\n",
       "      <td>0</td>\n",
       "    </tr>\n",
       "    <tr>\n",
       "      <th>451</th>\n",
       "      <td>11266869</td>\n",
       "      <td>None</td>\n",
       "      <td>CLUBUL SPORTIV \"ALEXANDRU PAPIU ILARIAN\" DEJ</td>\n",
       "      <td>CLUJ</td>\n",
       "      <td>DEJ</td>\n",
       "      <td>Un schimb/zi</td>\n",
       "      <td>Publică de interes naţional şi local</td>\n",
       "      <td>Buget</td>\n",
       "      <td>0</td>\n",
       "      <td>0</td>\n",
       "      <td>0</td>\n",
       "    </tr>\n",
       "    <tr>\n",
       "      <th>473</th>\n",
       "      <td>11266871</td>\n",
       "      <td>None</td>\n",
       "      <td>CLUBUL SPORTIV \"LIVIU REBREANU\" TURDA</td>\n",
       "      <td>CLUJ</td>\n",
       "      <td>TURDA</td>\n",
       "      <td>Un schimb/zi</td>\n",
       "      <td>Publică de interes naţional şi local</td>\n",
       "      <td>Buget</td>\n",
       "      <td>0</td>\n",
       "      <td>0</td>\n",
       "      <td>0</td>\n",
       "    </tr>\n",
       "  </tbody>\n",
       "</table>\n",
       "</div>"
      ],
      "text/plain": [
       "     idSchool siruesCode                                     shortName county  \\\n",
       "48   11266861  123007621                   CASA CORPULUI DIDACTIC CLUJ   CLUJ   \n",
       "146  11266905   12000012                               C.J.R.A.E. CLUJ   CLUJ   \n",
       "227  11266906  120447612                         CSEI CJ (SC. SPEC. 1)   CLUJ   \n",
       "268  11266863  121121021                 CLUBUL COPIILOR CÂMPIA TURZII   CLUJ   \n",
       "285  11266864  121121007                           CLUBUL COPIILOR DEJ   CLUJ   \n",
       "294  11266865  121121033                        CLUBUL COPIILOR GHERLA   CLUJ   \n",
       "299  11266866  123003546                        CLUBUL COPIILOR HUEDIN   CLUJ   \n",
       "400  11266867  121121019                         CLUBUL COPIILOR TURDA   CLUJ   \n",
       "451  11266869       None  CLUBUL SPORTIV \"ALEXANDRU PAPIU ILARIAN\" DEJ   CLUJ   \n",
       "473  11266871       None         CLUBUL SPORTIV \"LIVIU REBREANU\" TURDA   CLUJ   \n",
       "\n",
       "          locality operatingMode                          propertyForm  \\\n",
       "48     CLUJ-NAPOCA  Un schimb/zi  Publică de interes naţional şi local   \n",
       "146    CLUJ-NAPOCA  Un schimb/zi  Publică de interes naţional şi local   \n",
       "227    CLUJ-NAPOCA  Un schimb/zi  Publică de interes naţional şi local   \n",
       "268  CÂMPIA TURZII  Un schimb/zi  Publică de interes naţional şi local   \n",
       "285            DEJ  Un schimb/zi  Publică de interes naţional şi local   \n",
       "294         GHERLA  Un schimb/zi  Publică de interes naţional şi local   \n",
       "299         HUEDIN  Un schimb/zi  Publică de interes naţional şi local   \n",
       "400          TURDA  Un schimb/zi  Publică de interes naţional şi local   \n",
       "451            DEJ  Un schimb/zi  Publică de interes naţional şi local   \n",
       "473          TURDA  Un schimb/zi  Publică de interes naţional şi local   \n",
       "\n",
       "    fundingForm  schoolNumbers.studyFormationsCount  \\\n",
       "48        Buget                                   0   \n",
       "146       Buget                                   0   \n",
       "227       Buget                                  26   \n",
       "268       Buget                                   0   \n",
       "285       Buget                                   0   \n",
       "294       Buget                                   0   \n",
       "299       Buget                                   0   \n",
       "400       Buget                                   0   \n",
       "451       Buget                                   0   \n",
       "473       Buget                                   0   \n",
       "\n",
       "     schoolNumbers.studentsCount  schoolNumbers.personnelCount  \n",
       "48                             0                           100  \n",
       "146                            0                           157  \n",
       "227                          148                           142  \n",
       "268                            0                             0  \n",
       "285                            0                             0  \n",
       "294                            0                             0  \n",
       "299                            0                             0  \n",
       "400                            0                             0  \n",
       "451                            0                             0  \n",
       "473                            0                             0  "
      ]
     },
     "execution_count": 77,
     "metadata": {},
     "output_type": "execute_result"
    }
   ],
   "source": [
    "cj_county_details.head(10)"
   ]
  },
  {
   "cell_type": "code",
   "execution_count": 61,
   "id": "630fe064-667e-4446-b449-adbe6292e120",
   "metadata": {
    "tags": []
   },
   "outputs": [
    {
     "data": {
      "text/plain": [
       "county\n",
       "CLUJ    444\n",
       "Name: count, dtype: int64"
      ]
     },
     "execution_count": 61,
     "metadata": {},
     "output_type": "execute_result"
    }
   ],
   "source": [
    "cj_county_details.county.value_counts()"
   ]
  },
  {
   "cell_type": "code",
   "execution_count": 22,
   "id": "fb67dab8-ce8b-40ab-8d52-c91c1714696d",
   "metadata": {
    "tags": []
   },
   "outputs": [
    {
     "data": {
      "text/plain": [
       "locality\n",
       "CLUJ-NAPOCA      160\n",
       "TURDA             28\n",
       "DEJ               23\n",
       "GHERLA            14\n",
       "CÂMPIA TURZII     13\n",
       "                ... \n",
       "CIURILA            1\n",
       "COJOCNA            1\n",
       "CUTCA              1\n",
       "CUZDRIOARA         1\n",
       "RĂSCRUCI           1\n",
       "Name: count, Length: 187, dtype: int64"
      ]
     },
     "execution_count": 22,
     "metadata": {},
     "output_type": "execute_result"
    }
   ],
   "source": [
    "cj_county_details.locality.value_counts()"
   ]
  },
  {
   "cell_type": "code",
   "execution_count": 78,
   "id": "12d68204-e80d-49af-a979-89794386dde6",
   "metadata": {
    "tags": []
   },
   "outputs": [
    {
     "data": {
      "text/plain": [
       "idSchool                                0\n",
       "siruesCode                            133\n",
       "shortName                               0\n",
       "county                                  0\n",
       "locality                                0\n",
       "operatingMode                           0\n",
       "propertyForm                            0\n",
       "fundingForm                             0\n",
       "schoolNumbers.studyFormationsCount      0\n",
       "schoolNumbers.studentsCount             0\n",
       "schoolNumbers.personnelCount            0\n",
       "dtype: int64"
      ]
     },
     "execution_count": 78,
     "metadata": {},
     "output_type": "execute_result"
    }
   ],
   "source": [
    "cj_county_details.isna().sum()"
   ]
  },
  {
   "cell_type": "markdown",
   "id": "44ca13eb-ce24-42e9-9408-16c995fc7770",
   "metadata": {
    "jupyter": {
     "outputs_hidden": true
    },
    "tags": []
   },
   "source": [
    "### CSV"
   ]
  },
  {
   "cell_type": "code",
   "execution_count": 89,
   "id": "68df88b3-2e3d-4015-9c1c-d136e9eb0d9f",
   "metadata": {},
   "outputs": [],
   "source": [
    "cj_county_details.to_csv('cj_county_details_3.csv', index = False)"
   ]
  },
  {
   "cell_type": "code",
   "execution_count": 55,
   "id": "28b30a60-441d-439b-b3cd-1dad7ba8ad97",
   "metadata": {
    "tags": []
   },
   "outputs": [],
   "source": [
    " incercare = pd.read_csv('cj_county_details.csv')"
   ]
  }
 ],
 "metadata": {
  "kernelspec": {
   "display_name": "Python 3 (ipykernel)",
   "language": "python",
   "name": "python3"
  },
  "language_info": {
   "codemirror_mode": {
    "name": "ipython",
    "version": 3
   },
   "file_extension": ".py",
   "mimetype": "text/x-python",
   "name": "python",
   "nbconvert_exporter": "python",
   "pygments_lexer": "ipython3",
   "version": "3.11.5"
  }
 },
 "nbformat": 4,
 "nbformat_minor": 5
}
